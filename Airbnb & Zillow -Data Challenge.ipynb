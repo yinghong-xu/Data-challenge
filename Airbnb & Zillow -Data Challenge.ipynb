{
 "cells": [
  {
   "cell_type": "markdown",
   "metadata": {},
   "source": [
    "### Objective\n",
    "The objective of this Data Challenge is to analyze the Airbnb and Zillow datasets for a real estate client, and suggest the most profitable zipcodes in New York city to invest in."
   ]
  },
  {
   "cell_type": "markdown",
   "metadata": {},
   "source": [
    "### Getting Reday"
   ]
  },
  {
   "cell_type": "code",
   "execution_count": 37,
   "metadata": {},
   "outputs": [
    {
     "name": "stderr",
     "output_type": "stream",
     "text": [
      "D:\\Anaconda\\lib\\site-packages\\IPython\\core\\interactiveshell.py:3057: DtypeWarning: Columns (43,61,62,94,95) have mixed types. Specify dtype option on import or set low_memory=False.\n",
      "  interactivity=interactivity, compiler=compiler, result=result)\n"
     ]
    }
   ],
   "source": [
    "# Preparation and import data\n",
    "import numpy as np\n",
    "import scipy as sp\n",
    "import pandas as pd\n",
    "import matplotlib.pyplot as plt\n",
    "import seaborn as sns\n",
    "\n",
    "Zip=pd.read_csv(\"Zip_Zhvi_2bedroom.csv\")\n",
    "airbnb=pd.read_csv(\"listings.csv\")\n"
   ]
  },
  {
   "cell_type": "code",
   "execution_count": 38,
   "metadata": {},
   "outputs": [],
   "source": [
    "# create csv files for missing data\n",
    "def report_missing_values(data_name):\n",
    "    Th_missing=0  # reporting threshold\n",
    "    Th_filter=3   # \n",
    "    data=eval(data_name)\n",
    "    print(data.shape[0])\n",
    "    missing_values_percentage = (data.isnull().sum()*100/data.shape[0]).round(2)\n",
    "    missing_values_percentage = missing_values_percentage.to_frame(\"missing_values_percentage\")\n",
    "    missing_values_percentage[\"feature_names\"] = missing_values_percentage.index\n",
    "    missing_values_percentage[\"dtypes\"] =data.dtypes\n",
    "    \n",
    "    missing_values_percentage.reset_index(inplace=True)\n",
    "    missing_values_percentage = missing_values_percentage[[\"feature_names\",\"missing_values_percentage\",\"dtypes\"]]\n",
    "    missing_values_percentage = missing_values_percentage[missing_values_percentage.missing_values_percentage>=Th_missing]\n",
    "    print(missing_values_percentage.head(10))\n",
    "    fout=data_name+\"_mssing_values_percentage.csv\"\n",
    "    print(\"See output file <{}> for all missing percentages\".format(fout))\n",
    "    missing_values_percentage.to_csv(fout, sep=\",\", index=False)\n",
    "    \n",
    "    sel_cols=missing_values_percentage[missing_values_percentage.missing_values_percentage<Th_filter].feature_names.tolist()\n",
    "    #print(sel_cols)\n",
    "    data_filtered=data[sel_cols]\n",
    "    #missing_index=data[missing_values_percentage.feature_names].isnull().sum(1)>0\n",
    "    #data.loc[missing_index,:].to_csv(data_name+'_missing_values.csv')\n",
    "    return data_filtered"
   ]
  },
  {
   "cell_type": "markdown",
   "metadata": {},
   "source": [
    "### Zillow dataset"
   ]
  },
  {
   "cell_type": "code",
   "execution_count": 39,
   "metadata": {},
   "outputs": [
    {
     "name": "stdout",
     "output_type": "stream",
     "text": [
      "(8946, 262)\n"
     ]
    },
    {
     "data": {
      "text/html": [
       "<div>\n",
       "<style scoped>\n",
       "    .dataframe tbody tr th:only-of-type {\n",
       "        vertical-align: middle;\n",
       "    }\n",
       "\n",
       "    .dataframe tbody tr th {\n",
       "        vertical-align: top;\n",
       "    }\n",
       "\n",
       "    .dataframe thead th {\n",
       "        text-align: right;\n",
       "    }\n",
       "</style>\n",
       "<table border=\"1\" class=\"dataframe\">\n",
       "  <thead>\n",
       "    <tr style=\"text-align: right;\">\n",
       "      <th></th>\n",
       "      <th>RegionID</th>\n",
       "      <th>RegionName</th>\n",
       "      <th>City</th>\n",
       "      <th>State</th>\n",
       "      <th>Metro</th>\n",
       "      <th>CountyName</th>\n",
       "      <th>SizeRank</th>\n",
       "      <th>1996-04</th>\n",
       "      <th>1996-05</th>\n",
       "      <th>1996-06</th>\n",
       "      <th>...</th>\n",
       "      <th>2016-09</th>\n",
       "      <th>2016-10</th>\n",
       "      <th>2016-11</th>\n",
       "      <th>2016-12</th>\n",
       "      <th>2017-01</th>\n",
       "      <th>2017-02</th>\n",
       "      <th>2017-03</th>\n",
       "      <th>2017-04</th>\n",
       "      <th>2017-05</th>\n",
       "      <th>2017-06</th>\n",
       "    </tr>\n",
       "  </thead>\n",
       "  <tbody>\n",
       "    <tr>\n",
       "      <th>0</th>\n",
       "      <td>61639</td>\n",
       "      <td>10025</td>\n",
       "      <td>New York</td>\n",
       "      <td>NY</td>\n",
       "      <td>New York</td>\n",
       "      <td>New York</td>\n",
       "      <td>1</td>\n",
       "      <td>NaN</td>\n",
       "      <td>NaN</td>\n",
       "      <td>NaN</td>\n",
       "      <td>...</td>\n",
       "      <td>1374400</td>\n",
       "      <td>1364100</td>\n",
       "      <td>1366300</td>\n",
       "      <td>1354800.0</td>\n",
       "      <td>1327500</td>\n",
       "      <td>1317300</td>\n",
       "      <td>1333700</td>\n",
       "      <td>1352100</td>\n",
       "      <td>1390000</td>\n",
       "      <td>1431000</td>\n",
       "    </tr>\n",
       "  </tbody>\n",
       "</table>\n",
       "<p>1 rows × 262 columns</p>\n",
       "</div>"
      ],
      "text/plain": [
       "   RegionID  RegionName      City State     Metro CountyName  SizeRank  \\\n",
       "0     61639       10025  New York    NY  New York   New York         1   \n",
       "\n",
       "   1996-04  1996-05  1996-06  ...  2016-09  2016-10  2016-11    2016-12  \\\n",
       "0      NaN      NaN      NaN  ...  1374400  1364100  1366300  1354800.0   \n",
       "\n",
       "   2017-01  2017-02  2017-03  2017-04  2017-05  2017-06  \n",
       "0  1327500  1317300  1333700  1352100  1390000  1431000  \n",
       "\n",
       "[1 rows x 262 columns]"
      ]
     },
     "execution_count": 39,
     "metadata": {},
     "output_type": "execute_result"
    }
   ],
   "source": [
    "# Let's look at the first row of zillow dataframe\n",
    "print(Zip.shape)\n",
    "Zip.head(1)"
   ]
  },
  {
   "cell_type": "code",
   "execution_count": 40,
   "metadata": {},
   "outputs": [
    {
     "name": "stdout",
     "output_type": "stream",
     "text": [
      "4684 ['New York' 'Chicago' 'El Paso' ... \"Hart'S Location\" 'Waterville Valley'\n",
      " 'Shelburne Falls']\n",
      "(25, 262)\n"
     ]
    },
    {
     "data": {
      "text/html": [
       "<div>\n",
       "<style scoped>\n",
       "    .dataframe tbody tr th:only-of-type {\n",
       "        vertical-align: middle;\n",
       "    }\n",
       "\n",
       "    .dataframe tbody tr th {\n",
       "        vertical-align: top;\n",
       "    }\n",
       "\n",
       "    .dataframe thead th {\n",
       "        text-align: right;\n",
       "    }\n",
       "</style>\n",
       "<table border=\"1\" class=\"dataframe\">\n",
       "  <thead>\n",
       "    <tr style=\"text-align: right;\">\n",
       "      <th></th>\n",
       "      <th>RegionID</th>\n",
       "      <th>RegionName</th>\n",
       "      <th>City</th>\n",
       "      <th>State</th>\n",
       "      <th>Metro</th>\n",
       "      <th>CountyName</th>\n",
       "      <th>SizeRank</th>\n",
       "      <th>1996-04</th>\n",
       "      <th>1996-05</th>\n",
       "      <th>1996-06</th>\n",
       "      <th>...</th>\n",
       "      <th>2016-09</th>\n",
       "      <th>2016-10</th>\n",
       "      <th>2016-11</th>\n",
       "      <th>2016-12</th>\n",
       "      <th>2017-01</th>\n",
       "      <th>2017-02</th>\n",
       "      <th>2017-03</th>\n",
       "      <th>2017-04</th>\n",
       "      <th>2017-05</th>\n",
       "      <th>2017-06</th>\n",
       "    </tr>\n",
       "  </thead>\n",
       "  <tbody>\n",
       "    <tr>\n",
       "      <th>0</th>\n",
       "      <td>61639</td>\n",
       "      <td>10025</td>\n",
       "      <td>New York</td>\n",
       "      <td>NY</td>\n",
       "      <td>New York</td>\n",
       "      <td>New York</td>\n",
       "      <td>1</td>\n",
       "      <td>NaN</td>\n",
       "      <td>NaN</td>\n",
       "      <td>NaN</td>\n",
       "      <td>...</td>\n",
       "      <td>1374400</td>\n",
       "      <td>1364100</td>\n",
       "      <td>1366300</td>\n",
       "      <td>1354800.0</td>\n",
       "      <td>1327500</td>\n",
       "      <td>1317300</td>\n",
       "      <td>1333700</td>\n",
       "      <td>1352100</td>\n",
       "      <td>1390000</td>\n",
       "      <td>1431000</td>\n",
       "    </tr>\n",
       "    <tr>\n",
       "      <th>2</th>\n",
       "      <td>61637</td>\n",
       "      <td>10023</td>\n",
       "      <td>New York</td>\n",
       "      <td>NY</td>\n",
       "      <td>New York</td>\n",
       "      <td>New York</td>\n",
       "      <td>3</td>\n",
       "      <td>NaN</td>\n",
       "      <td>NaN</td>\n",
       "      <td>NaN</td>\n",
       "      <td>...</td>\n",
       "      <td>1993500</td>\n",
       "      <td>1980700</td>\n",
       "      <td>1960900</td>\n",
       "      <td>1951300.0</td>\n",
       "      <td>1937800</td>\n",
       "      <td>1929800</td>\n",
       "      <td>1955000</td>\n",
       "      <td>2022400</td>\n",
       "      <td>2095000</td>\n",
       "      <td>2142300</td>\n",
       "    </tr>\n",
       "  </tbody>\n",
       "</table>\n",
       "<p>2 rows × 262 columns</p>\n",
       "</div>"
      ],
      "text/plain": [
       "   RegionID  RegionName      City State     Metro CountyName  SizeRank  \\\n",
       "0     61639       10025  New York    NY  New York   New York         1   \n",
       "2     61637       10023  New York    NY  New York   New York         3   \n",
       "\n",
       "   1996-04  1996-05  1996-06  ...  2016-09  2016-10  2016-11    2016-12  \\\n",
       "0      NaN      NaN      NaN  ...  1374400  1364100  1366300  1354800.0   \n",
       "2      NaN      NaN      NaN  ...  1993500  1980700  1960900  1951300.0   \n",
       "\n",
       "   2017-01  2017-02  2017-03  2017-04  2017-05  2017-06  \n",
       "0  1327500  1317300  1333700  1352100  1390000  1431000  \n",
       "2  1937800  1929800  1955000  2022400  2095000  2142300  \n",
       "\n",
       "[2 rows x 262 columns]"
      ]
     },
     "execution_count": 40,
     "metadata": {},
     "output_type": "execute_result"
    }
   ],
   "source": [
    "print(Zip.City.nunique(), Zip.City.unique())\n",
    "# Filter city column and only leave with New York City\n",
    "Zip_NY=Zip[Zip[\"City\"]==\"New York\"]\n",
    "print(Zip_NY.shape)\n",
    "Zip_NY.head(2)"
   ]
  },
  {
   "cell_type": "code",
   "execution_count": 41,
   "metadata": {
    "scrolled": true
   },
   "outputs": [
    {
     "name": "stdout",
     "output_type": "stream",
     "text": [
      "25\n",
      "  feature_names  missing_values_percentage   dtypes\n",
      "0      RegionID                        0.0    int64\n",
      "1    RegionName                        0.0    int64\n",
      "2          City                        0.0   object\n",
      "3         State                        0.0   object\n",
      "4         Metro                        0.0   object\n",
      "5    CountyName                        0.0   object\n",
      "6      SizeRank                        0.0    int64\n",
      "7       1996-04                       68.0  float64\n",
      "8       1996-05                       68.0  float64\n",
      "9       1996-06                       68.0  float64\n",
      "See output file <Zip_NY_mssing_values_percentage.csv> for all missing percentages\n",
      "(25, 128)\n"
     ]
    },
    {
     "data": {
      "text/html": [
       "<div>\n",
       "<style scoped>\n",
       "    .dataframe tbody tr th:only-of-type {\n",
       "        vertical-align: middle;\n",
       "    }\n",
       "\n",
       "    .dataframe tbody tr th {\n",
       "        vertical-align: top;\n",
       "    }\n",
       "\n",
       "    .dataframe thead th {\n",
       "        text-align: right;\n",
       "    }\n",
       "</style>\n",
       "<table border=\"1\" class=\"dataframe\">\n",
       "  <thead>\n",
       "    <tr style=\"text-align: right;\">\n",
       "      <th></th>\n",
       "      <th>RegionID</th>\n",
       "      <th>RegionName</th>\n",
       "      <th>City</th>\n",
       "      <th>State</th>\n",
       "      <th>Metro</th>\n",
       "      <th>CountyName</th>\n",
       "      <th>SizeRank</th>\n",
       "      <th>2007-06</th>\n",
       "      <th>2007-07</th>\n",
       "      <th>2007-08</th>\n",
       "      <th>...</th>\n",
       "      <th>2016-09</th>\n",
       "      <th>2016-10</th>\n",
       "      <th>2016-11</th>\n",
       "      <th>2016-12</th>\n",
       "      <th>2017-01</th>\n",
       "      <th>2017-02</th>\n",
       "      <th>2017-03</th>\n",
       "      <th>2017-04</th>\n",
       "      <th>2017-05</th>\n",
       "      <th>2017-06</th>\n",
       "    </tr>\n",
       "  </thead>\n",
       "  <tbody>\n",
       "    <tr>\n",
       "      <th>0</th>\n",
       "      <td>61639</td>\n",
       "      <td>10025</td>\n",
       "      <td>New York</td>\n",
       "      <td>NY</td>\n",
       "      <td>New York</td>\n",
       "      <td>New York</td>\n",
       "      <td>1</td>\n",
       "      <td>883400.0</td>\n",
       "      <td>896100.0</td>\n",
       "      <td>923900.0</td>\n",
       "      <td>...</td>\n",
       "      <td>1374400</td>\n",
       "      <td>1364100</td>\n",
       "      <td>1366300</td>\n",
       "      <td>1354800.0</td>\n",
       "      <td>1327500</td>\n",
       "      <td>1317300</td>\n",
       "      <td>1333700</td>\n",
       "      <td>1352100</td>\n",
       "      <td>1390000</td>\n",
       "      <td>1431000</td>\n",
       "    </tr>\n",
       "    <tr>\n",
       "      <th>2</th>\n",
       "      <td>61637</td>\n",
       "      <td>10023</td>\n",
       "      <td>New York</td>\n",
       "      <td>NY</td>\n",
       "      <td>New York</td>\n",
       "      <td>New York</td>\n",
       "      <td>3</td>\n",
       "      <td>1411200.0</td>\n",
       "      <td>1407400.0</td>\n",
       "      <td>1419700.0</td>\n",
       "      <td>...</td>\n",
       "      <td>1993500</td>\n",
       "      <td>1980700</td>\n",
       "      <td>1960900</td>\n",
       "      <td>1951300.0</td>\n",
       "      <td>1937800</td>\n",
       "      <td>1929800</td>\n",
       "      <td>1955000</td>\n",
       "      <td>2022400</td>\n",
       "      <td>2095000</td>\n",
       "      <td>2142300</td>\n",
       "    </tr>\n",
       "  </tbody>\n",
       "</table>\n",
       "<p>2 rows × 128 columns</p>\n",
       "</div>"
      ],
      "text/plain": [
       "   RegionID  RegionName      City State     Metro CountyName  SizeRank  \\\n",
       "0     61639       10025  New York    NY  New York   New York         1   \n",
       "2     61637       10023  New York    NY  New York   New York         3   \n",
       "\n",
       "     2007-06    2007-07    2007-08  ...  2016-09  2016-10  2016-11    2016-12  \\\n",
       "0   883400.0   896100.0   923900.0  ...  1374400  1364100  1366300  1354800.0   \n",
       "2  1411200.0  1407400.0  1419700.0  ...  1993500  1980700  1960900  1951300.0   \n",
       "\n",
       "   2017-01  2017-02  2017-03  2017-04  2017-05  2017-06  \n",
       "0  1327500  1317300  1333700  1352100  1390000  1431000  \n",
       "2  1937800  1929800  1955000  2022400  2095000  2142300  \n",
       "\n",
       "[2 rows x 128 columns]"
      ]
     },
     "execution_count": 41,
     "metadata": {},
     "output_type": "execute_result"
    }
   ],
   "source": [
    "data_name='Zip_NY'\n",
    "Zip_filtered=report_missing_values(data_name)  # Keep columns with less than 3% missing\n",
    "print(Zip_filtered.shape)\n",
    "Zip_filtered.head(2)"
   ]
  },
  {
   "cell_type": "code",
   "execution_count": 42,
   "metadata": {},
   "outputs": [
    {
     "data": {
      "text/html": [
       "<div>\n",
       "<style scoped>\n",
       "    .dataframe tbody tr th:only-of-type {\n",
       "        vertical-align: middle;\n",
       "    }\n",
       "\n",
       "    .dataframe tbody tr th {\n",
       "        vertical-align: top;\n",
       "    }\n",
       "\n",
       "    .dataframe thead th {\n",
       "        text-align: right;\n",
       "    }\n",
       "</style>\n",
       "<table border=\"1\" class=\"dataframe\">\n",
       "  <thead>\n",
       "    <tr style=\"text-align: right;\">\n",
       "      <th></th>\n",
       "      <th>count</th>\n",
       "      <th>unique</th>\n",
       "      <th>top</th>\n",
       "      <th>freq</th>\n",
       "    </tr>\n",
       "  </thead>\n",
       "  <tbody>\n",
       "    <tr>\n",
       "      <th>RegionID</th>\n",
       "      <td>25</td>\n",
       "      <td>25</td>\n",
       "      <td>62120</td>\n",
       "      <td>1</td>\n",
       "    </tr>\n",
       "    <tr>\n",
       "      <th>RegionName</th>\n",
       "      <td>25</td>\n",
       "      <td>25</td>\n",
       "      <td>11434</td>\n",
       "      <td>1</td>\n",
       "    </tr>\n",
       "    <tr>\n",
       "      <th>City</th>\n",
       "      <td>25</td>\n",
       "      <td>1</td>\n",
       "      <td>New York</td>\n",
       "      <td>25</td>\n",
       "    </tr>\n",
       "    <tr>\n",
       "      <th>State</th>\n",
       "      <td>25</td>\n",
       "      <td>1</td>\n",
       "      <td>NY</td>\n",
       "      <td>25</td>\n",
       "    </tr>\n",
       "    <tr>\n",
       "      <th>Metro</th>\n",
       "      <td>25</td>\n",
       "      <td>1</td>\n",
       "      <td>New York</td>\n",
       "      <td>25</td>\n",
       "    </tr>\n",
       "    <tr>\n",
       "      <th>CountyName</th>\n",
       "      <td>25</td>\n",
       "      <td>4</td>\n",
       "      <td>New York</td>\n",
       "      <td>11</td>\n",
       "    </tr>\n",
       "    <tr>\n",
       "      <th>SizeRank</th>\n",
       "      <td>25</td>\n",
       "      <td>25</td>\n",
       "      <td>4647</td>\n",
       "      <td>1</td>\n",
       "    </tr>\n",
       "  </tbody>\n",
       "</table>\n",
       "</div>"
      ],
      "text/plain": [
       "           count unique       top freq\n",
       "RegionID      25     25     62120    1\n",
       "RegionName    25     25     11434    1\n",
       "City          25      1  New York   25\n",
       "State         25      1        NY   25\n",
       "Metro         25      1  New York   25\n",
       "CountyName    25      4  New York   11\n",
       "SizeRank      25     25      4647    1"
      ]
     },
     "execution_count": 42,
     "metadata": {},
     "output_type": "execute_result"
    }
   ],
   "source": [
    "# And get summary statisitcs for the categorical columnns\n",
    "Zip_filtered.iloc[:,0:7].astype('category').describe().T"
   ]
  },
  {
   "cell_type": "code",
   "execution_count": 43,
   "metadata": {},
   "outputs": [
    {
     "data": {
      "text/html": [
       "<div>\n",
       "<style scoped>\n",
       "    .dataframe tbody tr th:only-of-type {\n",
       "        vertical-align: middle;\n",
       "    }\n",
       "\n",
       "    .dataframe tbody tr th {\n",
       "        vertical-align: top;\n",
       "    }\n",
       "\n",
       "    .dataframe thead th {\n",
       "        text-align: right;\n",
       "    }\n",
       "</style>\n",
       "<table border=\"1\" class=\"dataframe\">\n",
       "  <thead>\n",
       "    <tr style=\"text-align: right;\">\n",
       "      <th></th>\n",
       "      <th>count</th>\n",
       "      <th>mean</th>\n",
       "      <th>std</th>\n",
       "      <th>min</th>\n",
       "      <th>25%</th>\n",
       "      <th>50%</th>\n",
       "      <th>75%</th>\n",
       "      <th>max</th>\n",
       "    </tr>\n",
       "  </thead>\n",
       "  <tbody>\n",
       "    <tr>\n",
       "      <th>2017-02</th>\n",
       "      <td>25.0</td>\n",
       "      <td>1203356.0</td>\n",
       "      <td>823774.051283</td>\n",
       "      <td>303800.0</td>\n",
       "      <td>364900.0</td>\n",
       "      <td>1225000.0</td>\n",
       "      <td>1774500.0</td>\n",
       "      <td>3183300.0</td>\n",
       "    </tr>\n",
       "    <tr>\n",
       "      <th>2017-03</th>\n",
       "      <td>25.0</td>\n",
       "      <td>1216940.0</td>\n",
       "      <td>828135.105221</td>\n",
       "      <td>308300.0</td>\n",
       "      <td>371100.0</td>\n",
       "      <td>1219600.0</td>\n",
       "      <td>1812700.0</td>\n",
       "      <td>3160200.0</td>\n",
       "    </tr>\n",
       "    <tr>\n",
       "      <th>2017-04</th>\n",
       "      <td>25.0</td>\n",
       "      <td>1241344.0</td>\n",
       "      <td>845216.827250</td>\n",
       "      <td>313800.0</td>\n",
       "      <td>377200.0</td>\n",
       "      <td>1238100.0</td>\n",
       "      <td>1914600.0</td>\n",
       "      <td>3193500.0</td>\n",
       "    </tr>\n",
       "    <tr>\n",
       "      <th>2017-05</th>\n",
       "      <td>25.0</td>\n",
       "      <td>1268768.0</td>\n",
       "      <td>866552.282862</td>\n",
       "      <td>321300.0</td>\n",
       "      <td>383700.0</td>\n",
       "      <td>1276400.0</td>\n",
       "      <td>1997800.0</td>\n",
       "      <td>3262200.0</td>\n",
       "    </tr>\n",
       "    <tr>\n",
       "      <th>2017-06</th>\n",
       "      <td>25.0</td>\n",
       "      <td>1289684.0</td>\n",
       "      <td>882570.743944</td>\n",
       "      <td>327700.0</td>\n",
       "      <td>390500.0</td>\n",
       "      <td>1302300.0</td>\n",
       "      <td>2031600.0</td>\n",
       "      <td>3316500.0</td>\n",
       "    </tr>\n",
       "  </tbody>\n",
       "</table>\n",
       "</div>"
      ],
      "text/plain": [
       "         count       mean            std       min       25%        50%  \\\n",
       "2017-02   25.0  1203356.0  823774.051283  303800.0  364900.0  1225000.0   \n",
       "2017-03   25.0  1216940.0  828135.105221  308300.0  371100.0  1219600.0   \n",
       "2017-04   25.0  1241344.0  845216.827250  313800.0  377200.0  1238100.0   \n",
       "2017-05   25.0  1268768.0  866552.282862  321300.0  383700.0  1276400.0   \n",
       "2017-06   25.0  1289684.0  882570.743944  327700.0  390500.0  1302300.0   \n",
       "\n",
       "               75%        max  \n",
       "2017-02  1774500.0  3183300.0  \n",
       "2017-03  1812700.0  3160200.0  \n",
       "2017-04  1914600.0  3193500.0  \n",
       "2017-05  1997800.0  3262200.0  \n",
       "2017-06  2031600.0  3316500.0  "
      ]
     },
     "execution_count": 43,
     "metadata": {},
     "output_type": "execute_result"
    }
   ],
   "source": [
    "# And get summary statisitcs for the numberical columnns\n",
    "Zip_filtered.iloc[:,7:].astype('float').describe().T.tail()"
   ]
  },
  {
   "cell_type": "code",
   "execution_count": 44,
   "metadata": {},
   "outputs": [
    {
     "data": {
      "text/plain": [
       "<matplotlib.axes._subplots.AxesSubplot at 0x1e6d01629e8>"
      ]
     },
     "execution_count": 44,
     "metadata": {},
     "output_type": "execute_result"
    },
    {
     "data": {
      "image/png": "[encoded data removed]",
      "text/plain": [
       "<Figure size 1080x720 with 1 Axes>"
      ]
     },
     "metadata": {
      "needs_background": "light"
     },
     "output_type": "display_data"
    }
   ],
   "source": [
    "## draw a bar chart to see the average price of each zipcode in 2017-06\n",
    "fig = plt.figure(dpi=180)\n",
    "df=Zip_filtered\n",
    "adf=df.groupby(['RegionName'])['2017-06'].agg(['mean'])\n",
    "adf['mean'].plot('bar')"
   ]
  },
  {
   "cell_type": "markdown",
   "metadata": {},
   "source": [
    "### Interpretations\n",
    "Different zipcodes (RegionName) have very different average prices. The lower zipcodes have higer prices than the higher ones. Zipcode 10013 had the highest price above 30 million dollars while the prices of zipcode from 10303 to 10314 were the lowest below 0.5 million dollars."
   ]
  },
  {
   "cell_type": "code",
   "execution_count": 45,
   "metadata": {},
   "outputs": [
    {
     "data": {
      "text/plain": [
       "array([   1,    3,   14,   15,   21,   32,   52,   68,   71,  109,  190,\n",
       "        379,  580,  622,  668,  764,  894, 1555, 1744, 1817, 1958, 2087,\n",
       "       3682, 4149, 4647], dtype=int64)"
      ]
     },
     "execution_count": 45,
     "metadata": {},
     "output_type": "execute_result"
    }
   ],
   "source": [
    "df.SizeRank.unique() #population"
   ]
  },
  {
   "cell_type": "code",
   "execution_count": 46,
   "metadata": {},
   "outputs": [
    {
     "data": {
      "text/plain": [
       "<mpl_toolkits.mplot3d.art3d.Poly3DCollection at 0x1e6d0150e48>"
      ]
     },
     "execution_count": 46,
     "metadata": {},
     "output_type": "execute_result"
    },
    {
     "data": {
      "image/png": "[encoded data removed]",
      "text/plain": [
       "<Figure size 1080x720 with 1 Axes>"
      ]
     },
     "metadata": {
      "needs_background": "light"
     },
     "output_type": "display_data"
    }
   ],
   "source": [
    "from mpl_toolkits.mplot3d import Axes3D\n",
    "from matplotlib import cm\n",
    "fig = plt.figure(dpi=180)\n",
    "ax = Axes3D(fig)\n",
    "ax.plot_trisurf(df['RegionName'], df['SizeRank'].apply(np.log), df['2017-06'], cmap=cm.coolwarm, linewidth=0.5)\n",
    "# I have applied np.log on the SizeRank column in order to make a better comparison and visualization"
   ]
  },
  {
   "cell_type": "markdown",
   "metadata": {},
   "source": [
    "### Interpretations\n",
    "Property prices look highest near Zipcode 10000 and SizeRank higher regions. The top of the 3D plot tells us that those who live in a lager house with an area of lower population desity are rich and the zipcodes are between 10000 and 10200."
   ]
  },
  {
   "cell_type": "markdown",
   "metadata": {},
   "source": [
    "### Airbnb dataset"
   ]
  },
  {
   "cell_type": "code",
   "execution_count": 47,
   "metadata": {},
   "outputs": [
    {
     "name": "stdout",
     "output_type": "stream",
     "text": [
      "(48895, 106)\n"
     ]
    }
   ],
   "source": [
    "#Shape of Airbnb data frame\n",
    "print(airbnb.shape)"
   ]
  },
  {
   "cell_type": "code",
   "execution_count": 48,
   "metadata": {},
   "outputs": [
    {
     "name": "stdout",
     "output_type": "stream",
     "text": [
      "(6497, 106)\n",
      "['New York', 'Brooklyn', 'Queens', 'Long Island City', 'Riverdale ', 'Bronx', 'Staten Island', 'Brooklyn ', 'Astoria', 'Jamaica', 'ASTORIA', 'long island city', 'NY', 'Kew Garden Hills\\nnew York', 'LONG ISLAND CITY', 'Rockaway beach', 'Fort Greene, Brooklyn', 'Park Slope, Brooklyn', 'bronx', 'Saint Albans(Queens)', 'EAST ELMHURST', 'jackson heights', 'New York City', 'Woodside', nan, 'Astoria ', 'Brooklyn, New York', 'Bushwick/Ridgewood', 'Forest Hills', 'RIVERDALE', 'Bushwick', 'astoria', 'Chelsea, New York', 'Long Island city', 'Fresh Meadows ', 'MIDDLE VILLAGE', 'new york', 'East Elmhurst', 'New York ', 'Queens ', 'Jackson Heights', 'Brookyn ', 'Ridgewood', 'Flushing ', 'Rockaway Beach', 'Forest Hills ', 'Rosedale ', 'Williamsburg,Brooklyn', 'Flushing', 'Jackson Heights ', 'Greenpoint, Brooklyn', 'Brooklyn, NY 11221 ', 'Ridgewood ', 'flushing', 'Howard Beach', 'Glendale ', 'Arverne', 'Sunnyside ', 'Woodside ', ' Brooklyn', 'NYC', 'brooklyn', 'Flushing or east Elmhurst ', 'Elmhurst ', 'New york', 'Williamsburg, Brooklyn ', 'Lawrence', 'BROOKLYN', 'St Albans', 'Saint Albans ', 'New York,Manhattan ', 'New York City ', 'The Bronx', 'St. Albans ', 'PRINCE', 'East elmhurst ', 'Bronx/ City Island ', 'Rego Park Queens', 'Fresh Meadows', 'FLushing', 'BROOKLYN ', 'Staten Island ', 'Queens Village ', 'Long Island City ', 'Elmont', 'Manhattan ', 'Springfield ', 'Manhattan']\n"
     ]
    },
    {
     "data": {
      "text/plain": [
       "314"
      ]
     },
     "execution_count": 48,
     "metadata": {},
     "output_type": "execute_result"
    }
   ],
   "source": [
    "# get airbnb with only 2 bedrooms\n",
    "airbnb_2brs=airbnb[airbnb[\"bedrooms\"]==2]\n",
    "print(airbnb_2brs.shape)\n",
    "\n",
    "# find the number of unique zipcodes in New York city\n",
    "print(airbnb_2brs.city.unique().tolist())\n",
    "airbnb_2brs.zipcode.nunique()"
   ]
  },
  {
   "cell_type": "code",
   "execution_count": 49,
   "metadata": {},
   "outputs": [
    {
     "name": "stdout",
     "output_type": "stream",
     "text": [
      "6497\n",
      "           feature_names  missing_values_percentage  dtypes\n",
      "0                     id                       0.00   int64\n",
      "1            listing_url                       0.00  object\n",
      "2              scrape_id                       0.00   int64\n",
      "3           last_scraped                       0.00  object\n",
      "4                   name                       0.00  object\n",
      "5                summary                       3.77  object\n",
      "6                  space                      25.29  object\n",
      "7            description                       1.25  object\n",
      "8    experiences_offered                       0.00  object\n",
      "9  neighborhood_overview                      33.51  object\n",
      "See output file <airbnb_2brs_mssing_values_percentage.csv> for all missing percentages\n"
     ]
    },
    {
     "data": {
      "text/html": [
       "<div>\n",
       "<style scoped>\n",
       "    .dataframe tbody tr th:only-of-type {\n",
       "        vertical-align: middle;\n",
       "    }\n",
       "\n",
       "    .dataframe tbody tr th {\n",
       "        vertical-align: top;\n",
       "    }\n",
       "\n",
       "    .dataframe thead th {\n",
       "        text-align: right;\n",
       "    }\n",
       "</style>\n",
       "<table border=\"1\" class=\"dataframe\">\n",
       "  <thead>\n",
       "    <tr style=\"text-align: right;\">\n",
       "      <th></th>\n",
       "      <th>id</th>\n",
       "      <th>listing_url</th>\n",
       "      <th>scrape_id</th>\n",
       "      <th>last_scraped</th>\n",
       "      <th>name</th>\n",
       "      <th>description</th>\n",
       "      <th>experiences_offered</th>\n",
       "      <th>picture_url</th>\n",
       "      <th>host_id</th>\n",
       "      <th>host_url</th>\n",
       "      <th>...</th>\n",
       "      <th>requires_license</th>\n",
       "      <th>instant_bookable</th>\n",
       "      <th>is_business_travel_ready</th>\n",
       "      <th>cancellation_policy</th>\n",
       "      <th>require_guest_profile_picture</th>\n",
       "      <th>require_guest_phone_verification</th>\n",
       "      <th>calculated_host_listings_count</th>\n",
       "      <th>calculated_host_listings_count_entire_homes</th>\n",
       "      <th>calculated_host_listings_count_private_rooms</th>\n",
       "      <th>calculated_host_listings_count_shared_rooms</th>\n",
       "    </tr>\n",
       "  </thead>\n",
       "  <tbody>\n",
       "    <tr>\n",
       "      <th>19</th>\n",
       "      <td>7750</td>\n",
       "      <td>https://www.airbnb.com/rooms/7750</td>\n",
       "      <td>20190708031610</td>\n",
       "      <td>2019-07-08</td>\n",
       "      <td>Huge 2 BR Upper East  Cental Park</td>\n",
       "      <td>Large Furnished 2BR one block  to Central Park...</td>\n",
       "      <td>none</td>\n",
       "      <td>https://a0.muscache.com/im/pictures/30595787/6...</td>\n",
       "      <td>17985</td>\n",
       "      <td>https://www.airbnb.com/users/show/17985</td>\n",
       "      <td>...</td>\n",
       "      <td>f</td>\n",
       "      <td>f</td>\n",
       "      <td>f</td>\n",
       "      <td>flexible</td>\n",
       "      <td>f</td>\n",
       "      <td>f</td>\n",
       "      <td>2</td>\n",
       "      <td>1</td>\n",
       "      <td>1</td>\n",
       "      <td>0</td>\n",
       "    </tr>\n",
       "    <tr>\n",
       "      <th>48</th>\n",
       "      <td>13050</td>\n",
       "      <td>https://www.airbnb.com/rooms/13050</td>\n",
       "      <td>20190708031610</td>\n",
       "      <td>2019-07-09</td>\n",
       "      <td>bright and stylish duplex</td>\n",
       "      <td>Wonderfully bright, comfortable, and stylish, ...</td>\n",
       "      <td>none</td>\n",
       "      <td>https://a0.muscache.com/im/pictures/207288e5-e...</td>\n",
       "      <td>50846</td>\n",
       "      <td>https://www.airbnb.com/users/show/50846</td>\n",
       "      <td>...</td>\n",
       "      <td>f</td>\n",
       "      <td>f</td>\n",
       "      <td>f</td>\n",
       "      <td>strict_14_with_grace_period</td>\n",
       "      <td>f</td>\n",
       "      <td>f</td>\n",
       "      <td>1</td>\n",
       "      <td>1</td>\n",
       "      <td>0</td>\n",
       "      <td>0</td>\n",
       "    </tr>\n",
       "  </tbody>\n",
       "</table>\n",
       "<p>2 rows × 73 columns</p>\n",
       "</div>"
      ],
      "text/plain": [
       "       id                         listing_url       scrape_id last_scraped  \\\n",
       "19   7750   https://www.airbnb.com/rooms/7750  20190708031610   2019-07-08   \n",
       "48  13050  https://www.airbnb.com/rooms/13050  20190708031610   2019-07-09   \n",
       "\n",
       "                                 name  \\\n",
       "19  Huge 2 BR Upper East  Cental Park   \n",
       "48          bright and stylish duplex   \n",
       "\n",
       "                                          description experiences_offered  \\\n",
       "19  Large Furnished 2BR one block  to Central Park...                none   \n",
       "48  Wonderfully bright, comfortable, and stylish, ...                none   \n",
       "\n",
       "                                          picture_url  host_id  \\\n",
       "19  https://a0.muscache.com/im/pictures/30595787/6...    17985   \n",
       "48  https://a0.muscache.com/im/pictures/207288e5-e...    50846   \n",
       "\n",
       "                                   host_url  ... requires_license  \\\n",
       "19  https://www.airbnb.com/users/show/17985  ...                f   \n",
       "48  https://www.airbnb.com/users/show/50846  ...                f   \n",
       "\n",
       "   instant_bookable is_business_travel_ready          cancellation_policy  \\\n",
       "19                f                        f                     flexible   \n",
       "48                f                        f  strict_14_with_grace_period   \n",
       "\n",
       "   require_guest_profile_picture require_guest_phone_verification  \\\n",
       "19                             f                                f   \n",
       "48                             f                                f   \n",
       "\n",
       "    calculated_host_listings_count  \\\n",
       "19                               2   \n",
       "48                               1   \n",
       "\n",
       "    calculated_host_listings_count_entire_homes  \\\n",
       "19                                            1   \n",
       "48                                            1   \n",
       "\n",
       "   calculated_host_listings_count_private_rooms  \\\n",
       "19                                            1   \n",
       "48                                            0   \n",
       "\n",
       "   calculated_host_listings_count_shared_rooms  \n",
       "19                                           0  \n",
       "48                                           0  \n",
       "\n",
       "[2 rows x 73 columns]"
      ]
     },
     "execution_count": 49,
     "metadata": {},
     "output_type": "execute_result"
    }
   ],
   "source": [
    "data_name='airbnb_2brs'\n",
    "airbnb_2brs_filtered=report_missing_values(data_name)  # Keep columns with less than 3% missing\n",
    "airbnb_2brs_filtered.head(2)"
   ]
  },
  {
   "cell_type": "markdown",
   "metadata": {},
   "source": [
    "### Data Selction and Cleaning"
   ]
  },
  {
   "cell_type": "code",
   "execution_count": 50,
   "metadata": {},
   "outputs": [],
   "source": [
    "# pick the columns I need for later use: id, zipcode, property_type, and price\n",
    "airbnb_2brs_filtered=airbnb_2brs_filtered[['id', 'zipcode', 'property_type', 'price']]\n"
   ]
  },
  {
   "cell_type": "code",
   "execution_count": 51,
   "metadata": {},
   "outputs": [
    {
     "data": {
      "text/plain": [
       "count    6497.000000\n",
       "mean      232.521471\n",
       "std       290.087418\n",
       "min         0.000000\n",
       "25%       130.000000\n",
       "50%       185.000000\n",
       "75%       265.000000\n",
       "max      9999.000000\n",
       "Name: price, dtype: float64"
      ]
     },
     "execution_count": 51,
     "metadata": {},
     "output_type": "execute_result"
    }
   ],
   "source": [
    "# Convert \"price\" data type from object to number\n",
    "airbnb_2brs_filtered['price']=airbnb_2brs_filtered['price'].str.replace('$','')\\\n",
    "        .str.replace(',','').astype(float)\n",
    "\n",
    "airbnb_2brs_filtered.price.describe()\n"
   ]
  },
  {
   "cell_type": "code",
   "execution_count": 52,
   "metadata": {},
   "outputs": [
    {
     "data": {
      "text/html": [
       "<div>\n",
       "<style scoped>\n",
       "    .dataframe tbody tr th:only-of-type {\n",
       "        vertical-align: middle;\n",
       "    }\n",
       "\n",
       "    .dataframe tbody tr th {\n",
       "        vertical-align: top;\n",
       "    }\n",
       "\n",
       "    .dataframe thead th {\n",
       "        text-align: right;\n",
       "    }\n",
       "</style>\n",
       "<table border=\"1\" class=\"dataframe\">\n",
       "  <thead>\n",
       "    <tr style=\"text-align: right;\">\n",
       "      <th></th>\n",
       "      <th>id</th>\n",
       "      <th>zipcode</th>\n",
       "      <th>property_type</th>\n",
       "      <th>price</th>\n",
       "    </tr>\n",
       "  </thead>\n",
       "  <tbody>\n",
       "    <tr>\n",
       "      <th>19</th>\n",
       "      <td>7750</td>\n",
       "      <td>10029</td>\n",
       "      <td>Apartment</td>\n",
       "      <td>190.0</td>\n",
       "    </tr>\n",
       "    <tr>\n",
       "      <th>48</th>\n",
       "      <td>13050</td>\n",
       "      <td>11221</td>\n",
       "      <td>Townhouse</td>\n",
       "      <td>115.0</td>\n",
       "    </tr>\n",
       "  </tbody>\n",
       "</table>\n",
       "</div>"
      ],
      "text/plain": [
       "       id zipcode property_type  price\n",
       "19   7750   10029     Apartment  190.0\n",
       "48  13050   11221     Townhouse  115.0"
      ]
     },
     "execution_count": 52,
     "metadata": {},
     "output_type": "execute_result"
    }
   ],
   "source": [
    "airbnb_2brs_filtered.head(2)"
   ]
  },
  {
   "cell_type": "code",
   "execution_count": 53,
   "metadata": {},
   "outputs": [
    {
     "name": "stdout",
     "output_type": "stream",
     "text": [
      "       id zipcode property_type  price\n",
      "19   7750   10029     Apartment  190.0\n",
      "48  13050   11221     Townhouse  115.0\n"
     ]
    },
    {
     "data": {
      "text/html": [
       "<div>\n",
       "<style scoped>\n",
       "    .dataframe tbody tr th:only-of-type {\n",
       "        vertical-align: middle;\n",
       "    }\n",
       "\n",
       "    .dataframe tbody tr th {\n",
       "        vertical-align: top;\n",
       "    }\n",
       "\n",
       "    .dataframe thead th {\n",
       "        text-align: right;\n",
       "    }\n",
       "</style>\n",
       "<table border=\"1\" class=\"dataframe\">\n",
       "  <thead>\n",
       "    <tr style=\"text-align: right;\">\n",
       "      <th></th>\n",
       "      <th>RegionName</th>\n",
       "      <th>City</th>\n",
       "      <th>Metro</th>\n",
       "      <th>CountyName</th>\n",
       "      <th>SizeRank</th>\n",
       "      <th>2017-06</th>\n",
       "    </tr>\n",
       "  </thead>\n",
       "  <tbody>\n",
       "    <tr>\n",
       "      <th>0</th>\n",
       "      <td>10025</td>\n",
       "      <td>New York</td>\n",
       "      <td>New York</td>\n",
       "      <td>New York</td>\n",
       "      <td>1</td>\n",
       "      <td>1431000</td>\n",
       "    </tr>\n",
       "    <tr>\n",
       "      <th>2</th>\n",
       "      <td>10023</td>\n",
       "      <td>New York</td>\n",
       "      <td>New York</td>\n",
       "      <td>New York</td>\n",
       "      <td>3</td>\n",
       "      <td>2142300</td>\n",
       "    </tr>\n",
       "  </tbody>\n",
       "</table>\n",
       "</div>"
      ],
      "text/plain": [
       "   RegionName      City     Metro CountyName  SizeRank  2017-06\n",
       "0       10025  New York  New York   New York         1  1431000\n",
       "2       10023  New York  New York   New York         3  2142300"
      ]
     },
     "execution_count": 53,
     "metadata": {},
     "output_type": "execute_result"
    }
   ],
   "source": [
    "# Let's briefly loot at the two datasets \n",
    "df0=airbnb_2brs_filtered.dropna().copy();\n",
    "\n",
    "df1=Zip_filtered.iloc[:,list((1,2,4,5,6))+[-1]] # I only want to use the lastest price which is in 2017-06 \n",
    "print(df0.head(2))\n",
    "df1.head(2)"
   ]
  },
  {
   "cell_type": "code",
   "execution_count": 54,
   "metadata": {},
   "outputs": [
    {
     "data": {
      "text/plain": [
       "array([104560, 104730, 113580, 113650, 103140, 103090, 110030, 104680,\n",
       "       112190, 114360, 103060, 104580, 114210, 114280, 114260, 100040,\n",
       "       114110, 104520, 104710, 100690], dtype=int64)"
      ]
     },
     "execution_count": 54,
     "metadata": {},
     "output_type": "execute_result"
    }
   ],
   "source": [
    "# make data consistent: to make sure that the zipcodes are all integers with five numbers\n",
    "df0.zipcode=[i[0:5] if isinstance(i,str) else str(i) for i in df0.zipcode]\n",
    "df0.zipcode=df0.zipcode.str.replace('.','').astype('int')\n",
    "df0.zipcode.unique()[-20:]"
   ]
  },
  {
   "cell_type": "code",
   "execution_count": 55,
   "metadata": {},
   "outputs": [
    {
     "name": "stderr",
     "output_type": "stream",
     "text": [
      "D:\\Anaconda\\lib\\site-packages\\pandas\\core\\generic.py:5096: SettingWithCopyWarning: \n",
      "A value is trying to be set on a copy of a slice from a DataFrame.\n",
      "Try using .loc[row_indexer,col_indexer] = value instead\n",
      "\n",
      "See the caveats in the documentation: http://pandas.pydata.org/pandas-docs/stable/indexing.html#indexing-view-versus-copy\n",
      "  self[name] = value\n"
     ]
    }
   ],
   "source": [
    "# make data consistent: to make sure that the zipcodes are all integers with five numbers\n",
    "df1.RegionName=df1.RegionName.astype('int')"
   ]
  },
  {
   "cell_type": "markdown",
   "metadata": {},
   "source": [
    "### Data Merging"
   ]
  },
  {
   "cell_type": "code",
   "execution_count": 56,
   "metadata": {},
   "outputs": [
    {
     "data": {
      "text/html": [
       "<div>\n",
       "<style scoped>\n",
       "    .dataframe tbody tr th:only-of-type {\n",
       "        vertical-align: middle;\n",
       "    }\n",
       "\n",
       "    .dataframe tbody tr th {\n",
       "        vertical-align: top;\n",
       "    }\n",
       "\n",
       "    .dataframe thead th {\n",
       "        text-align: right;\n",
       "    }\n",
       "</style>\n",
       "<table border=\"1\" class=\"dataframe\">\n",
       "  <thead>\n",
       "    <tr style=\"text-align: right;\">\n",
       "      <th></th>\n",
       "      <th>id</th>\n",
       "      <th>zipcode</th>\n",
       "      <th>property_type</th>\n",
       "      <th>listing_price</th>\n",
       "      <th>RegionName</th>\n",
       "      <th>City</th>\n",
       "      <th>Metro</th>\n",
       "      <th>CountyName</th>\n",
       "      <th>SizeRank</th>\n",
       "      <th>property_price</th>\n",
       "      <th>pe_ratio</th>\n",
       "    </tr>\n",
       "  </thead>\n",
       "  <tbody>\n",
       "    <tr>\n",
       "      <th>5</th>\n",
       "      <td>16458</td>\n",
       "      <td>11215</td>\n",
       "      <td>Condominium</td>\n",
       "      <td>225.0</td>\n",
       "      <td>11215.0</td>\n",
       "      <td>New York</td>\n",
       "      <td>New York</td>\n",
       "      <td>Kings</td>\n",
       "      <td>71.0</td>\n",
       "      <td>1070800.0</td>\n",
       "      <td>17.384881</td>\n",
       "    </tr>\n",
       "    <tr>\n",
       "      <th>10</th>\n",
       "      <td>20853</td>\n",
       "      <td>11217</td>\n",
       "      <td>Apartment</td>\n",
       "      <td>250.0</td>\n",
       "      <td>11217.0</td>\n",
       "      <td>New York</td>\n",
       "      <td>New York</td>\n",
       "      <td>Kings</td>\n",
       "      <td>1555.0</td>\n",
       "      <td>1302300.0</td>\n",
       "      <td>19.029041</td>\n",
       "    </tr>\n",
       "    <tr>\n",
       "      <th>11</th>\n",
       "      <td>23135</td>\n",
       "      <td>11231</td>\n",
       "      <td>Apartment</td>\n",
       "      <td>175.0</td>\n",
       "      <td>11231.0</td>\n",
       "      <td>New York</td>\n",
       "      <td>New York</td>\n",
       "      <td>Kings</td>\n",
       "      <td>1817.0</td>\n",
       "      <td>1202900.0</td>\n",
       "      <td>25.109459</td>\n",
       "    </tr>\n",
       "    <tr>\n",
       "      <th>14</th>\n",
       "      <td>27006</td>\n",
       "      <td>10023</td>\n",
       "      <td>Apartment</td>\n",
       "      <td>235.0</td>\n",
       "      <td>10023.0</td>\n",
       "      <td>New York</td>\n",
       "      <td>New York</td>\n",
       "      <td>New York</td>\n",
       "      <td>3.0</td>\n",
       "      <td>2142300.0</td>\n",
       "      <td>33.301078</td>\n",
       "    </tr>\n",
       "    <tr>\n",
       "      <th>15</th>\n",
       "      <td>27659</td>\n",
       "      <td>11215</td>\n",
       "      <td>Apartment</td>\n",
       "      <td>400.0</td>\n",
       "      <td>11215.0</td>\n",
       "      <td>New York</td>\n",
       "      <td>New York</td>\n",
       "      <td>Kings</td>\n",
       "      <td>71.0</td>\n",
       "      <td>1070800.0</td>\n",
       "      <td>9.778995</td>\n",
       "    </tr>\n",
       "  </tbody>\n",
       "</table>\n",
       "</div>"
      ],
      "text/plain": [
       "       id  zipcode property_type  listing_price  RegionName      City  \\\n",
       "5   16458    11215   Condominium          225.0     11215.0  New York   \n",
       "10  20853    11217     Apartment          250.0     11217.0  New York   \n",
       "11  23135    11231     Apartment          175.0     11231.0  New York   \n",
       "14  27006    10023     Apartment          235.0     10023.0  New York   \n",
       "15  27659    11215     Apartment          400.0     11215.0  New York   \n",
       "\n",
       "       Metro CountyName  SizeRank  property_price   pe_ratio  \n",
       "5   New York      Kings      71.0       1070800.0  17.384881  \n",
       "10  New York      Kings    1555.0       1302300.0  19.029041  \n",
       "11  New York      Kings    1817.0       1202900.0  25.109459  \n",
       "14  New York   New York       3.0       2142300.0  33.301078  \n",
       "15  New York      Kings      71.0       1070800.0   9.778995  "
      ]
     },
     "execution_count": 56,
     "metadata": {},
     "output_type": "execute_result"
    }
   ],
   "source": [
    "df=df0.merge(df1, left_on='zipcode', right_on='RegionName',how='left').dropna()\n",
    "df.rename(columns={'price':'listing_price','2017-06':'property_price'},inplace=True)\n",
    "df['pe_ratio']=df.eval('property_price/listing_price/365/0.75')  \n",
    "# to get price to earningS ratio: property price divided by daily price divided by 365 days and 75% occupancy rate\n",
    "df.head()"
   ]
  },
  {
   "cell_type": "code",
   "execution_count": 59,
   "metadata": {},
   "outputs": [
    {
     "data": {
      "text/html": [
       "<div>\n",
       "<style scoped>\n",
       "    .dataframe tbody tr th:only-of-type {\n",
       "        vertical-align: middle;\n",
       "    }\n",
       "\n",
       "    .dataframe tbody tr th {\n",
       "        vertical-align: top;\n",
       "    }\n",
       "\n",
       "    .dataframe thead tr th {\n",
       "        text-align: left;\n",
       "    }\n",
       "\n",
       "    .dataframe thead tr:last-of-type th {\n",
       "        text-align: right;\n",
       "    }\n",
       "</style>\n",
       "<table border=\"1\" class=\"dataframe\">\n",
       "  <thead>\n",
       "    <tr>\n",
       "      <th></th>\n",
       "      <th colspan=\"4\" halign=\"left\">pe_ratio</th>\n",
       "      <th>property_price</th>\n",
       "    </tr>\n",
       "    <tr>\n",
       "      <th></th>\n",
       "      <th>mean</th>\n",
       "      <th>median</th>\n",
       "      <th>std</th>\n",
       "      <th>count</th>\n",
       "      <th>mean</th>\n",
       "    </tr>\n",
       "    <tr>\n",
       "      <th>property_type</th>\n",
       "      <th></th>\n",
       "      <th></th>\n",
       "      <th></th>\n",
       "      <th></th>\n",
       "      <th></th>\n",
       "    </tr>\n",
       "  </thead>\n",
       "  <tbody>\n",
       "    <tr>\n",
       "      <th>Apartment</th>\n",
       "      <td>31.727074</td>\n",
       "      <td>27.939987</td>\n",
       "      <td>18.821078</td>\n",
       "      <td>924</td>\n",
       "      <td>1.784447e+06</td>\n",
       "    </tr>\n",
       "    <tr>\n",
       "      <th>House</th>\n",
       "      <td>22.296012</td>\n",
       "      <td>17.951926</td>\n",
       "      <td>16.444641</td>\n",
       "      <td>41</td>\n",
       "      <td>1.135498e+06</td>\n",
       "    </tr>\n",
       "    <tr>\n",
       "      <th>Loft</th>\n",
       "      <td>24.988749</td>\n",
       "      <td>23.786301</td>\n",
       "      <td>12.099295</td>\n",
       "      <td>41</td>\n",
       "      <td>2.411332e+06</td>\n",
       "    </tr>\n",
       "    <tr>\n",
       "      <th>Townhouse</th>\n",
       "      <td>29.278037</td>\n",
       "      <td>28.079573</td>\n",
       "      <td>14.391113</td>\n",
       "      <td>34</td>\n",
       "      <td>1.534838e+06</td>\n",
       "    </tr>\n",
       "    <tr>\n",
       "      <th>Condominium</th>\n",
       "      <td>22.832012</td>\n",
       "      <td>21.120797</td>\n",
       "      <td>13.863964</td>\n",
       "      <td>31</td>\n",
       "      <td>1.664568e+06</td>\n",
       "    </tr>\n",
       "  </tbody>\n",
       "</table>\n",
       "</div>"
      ],
      "text/plain": [
       "                pe_ratio                             property_price\n",
       "                    mean     median        std count           mean\n",
       "property_type                                                      \n",
       "Apartment      31.727074  27.939987  18.821078   924   1.784447e+06\n",
       "House          22.296012  17.951926  16.444641    41   1.135498e+06\n",
       "Loft           24.988749  23.786301  12.099295    41   2.411332e+06\n",
       "Townhouse      29.278037  28.079573  14.391113    34   1.534838e+06\n",
       "Condominium    22.832012  21.120797  13.863964    31   1.664568e+06"
      ]
     },
     "execution_count": 59,
     "metadata": {},
     "output_type": "execute_result"
    },
    {
     "data": {
      "image/png": "[encoded data removed]",
      "text/plain": [
       "<Figure size 1080x720 with 1 Axes>"
      ]
     },
     "metadata": {
      "needs_background": "light"
     },
     "output_type": "display_data"
    }
   ],
   "source": [
    "# airbnb listing price distribution\n",
    "fig = plt.figure(dpi=180)\n",
    "ax0=df.listing_price.hist(bins=500)\n",
    "ax0.set_xlim(0,1000)\n",
    "plt.title('listing_price distribution')\n",
    "pe_ratio=df.groupby(['property_type']).agg({'pe_ratio': ['mean','median','std','count'],'property_price': ['mean']} ).sort_values(('pe_ratio','count'),ascending=False)\n",
    "pe_ratio.head()"
   ]
  },
  {
   "cell_type": "markdown",
   "metadata": {},
   "source": [
    "### Interpretations\n",
    "The distribution plot is apparently right skewed. Different property types has different PE ratio. Look at the mean price, it didn't make much sense that house are cheaper. The majority prices are between 50 to 400, however there are some over 600 dollars. This is because Zillow provides 2-bedrooms property prices, which are more like apartment of condo, or town house, in addtion, airbnb two-bedrooms rental can be part of the house, which would be a complicated factor and may polutate the analysis conclusion. Also apartment type dominates the records, let's consider it only"
   ]
  },
  {
   "cell_type": "code",
   "execution_count": 60,
   "metadata": {},
   "outputs": [],
   "source": [
    "pe_ratio.to_csv('pe_ratio.csv')"
   ]
  },
  {
   "cell_type": "code",
   "execution_count": 61,
   "metadata": {},
   "outputs": [
    {
     "data": {
      "text/html": [
       "<div>\n",
       "<style scoped>\n",
       "    .dataframe tbody tr th:only-of-type {\n",
       "        vertical-align: middle;\n",
       "    }\n",
       "\n",
       "    .dataframe tbody tr th {\n",
       "        vertical-align: top;\n",
       "    }\n",
       "\n",
       "    .dataframe thead th {\n",
       "        text-align: right;\n",
       "    }\n",
       "</style>\n",
       "<table border=\"1\" class=\"dataframe\">\n",
       "  <thead>\n",
       "    <tr style=\"text-align: right;\">\n",
       "      <th></th>\n",
       "      <th>id</th>\n",
       "      <th>zipcode</th>\n",
       "      <th>property_type</th>\n",
       "      <th>listing_price</th>\n",
       "      <th>RegionName</th>\n",
       "      <th>City</th>\n",
       "      <th>Metro</th>\n",
       "      <th>CountyName</th>\n",
       "      <th>SizeRank</th>\n",
       "      <th>property_price</th>\n",
       "      <th>pe_ratio</th>\n",
       "    </tr>\n",
       "  </thead>\n",
       "  <tbody>\n",
       "    <tr>\n",
       "      <th>10</th>\n",
       "      <td>20853</td>\n",
       "      <td>11217</td>\n",
       "      <td>Apartment</td>\n",
       "      <td>250.0</td>\n",
       "      <td>11217.0</td>\n",
       "      <td>New York</td>\n",
       "      <td>New York</td>\n",
       "      <td>Kings</td>\n",
       "      <td>1555.0</td>\n",
       "      <td>1302300.0</td>\n",
       "      <td>19.029041</td>\n",
       "    </tr>\n",
       "    <tr>\n",
       "      <th>11</th>\n",
       "      <td>23135</td>\n",
       "      <td>11231</td>\n",
       "      <td>Apartment</td>\n",
       "      <td>175.0</td>\n",
       "      <td>11231.0</td>\n",
       "      <td>New York</td>\n",
       "      <td>New York</td>\n",
       "      <td>Kings</td>\n",
       "      <td>1817.0</td>\n",
       "      <td>1202900.0</td>\n",
       "      <td>25.109459</td>\n",
       "    </tr>\n",
       "    <tr>\n",
       "      <th>14</th>\n",
       "      <td>27006</td>\n",
       "      <td>10023</td>\n",
       "      <td>Apartment</td>\n",
       "      <td>235.0</td>\n",
       "      <td>10023.0</td>\n",
       "      <td>New York</td>\n",
       "      <td>New York</td>\n",
       "      <td>New York</td>\n",
       "      <td>3.0</td>\n",
       "      <td>2142300.0</td>\n",
       "      <td>33.301078</td>\n",
       "    </tr>\n",
       "    <tr>\n",
       "      <th>15</th>\n",
       "      <td>27659</td>\n",
       "      <td>11215</td>\n",
       "      <td>Apartment</td>\n",
       "      <td>400.0</td>\n",
       "      <td>11215.0</td>\n",
       "      <td>New York</td>\n",
       "      <td>New York</td>\n",
       "      <td>Kings</td>\n",
       "      <td>71.0</td>\n",
       "      <td>1070800.0</td>\n",
       "      <td>9.778995</td>\n",
       "    </tr>\n",
       "    <tr>\n",
       "      <th>17</th>\n",
       "      <td>32331</td>\n",
       "      <td>11201</td>\n",
       "      <td>Apartment</td>\n",
       "      <td>140.0</td>\n",
       "      <td>11201.0</td>\n",
       "      <td>New York</td>\n",
       "      <td>New York</td>\n",
       "      <td>Kings</td>\n",
       "      <td>32.0</td>\n",
       "      <td>1420700.0</td>\n",
       "      <td>37.069798</td>\n",
       "    </tr>\n",
       "  </tbody>\n",
       "</table>\n",
       "</div>"
      ],
      "text/plain": [
       "       id  zipcode property_type  listing_price  RegionName      City  \\\n",
       "10  20853    11217     Apartment          250.0     11217.0  New York   \n",
       "11  23135    11231     Apartment          175.0     11231.0  New York   \n",
       "14  27006    10023     Apartment          235.0     10023.0  New York   \n",
       "15  27659    11215     Apartment          400.0     11215.0  New York   \n",
       "17  32331    11201     Apartment          140.0     11201.0  New York   \n",
       "\n",
       "       Metro CountyName  SizeRank  property_price   pe_ratio  \n",
       "10  New York      Kings    1555.0       1302300.0  19.029041  \n",
       "11  New York      Kings    1817.0       1202900.0  25.109459  \n",
       "14  New York   New York       3.0       2142300.0  33.301078  \n",
       "15  New York      Kings      71.0       1070800.0   9.778995  \n",
       "17  New York      Kings      32.0       1420700.0  37.069798  "
      ]
     },
     "execution_count": 61,
     "metadata": {},
     "output_type": "execute_result"
    }
   ],
   "source": [
    "# let's look at the new data set\n",
    "top1=pe_ratio.head(1).index.tolist()\n",
    "df2=df[df.property_type.isin(top1)]\n",
    "df2.head()"
   ]
  },
  {
   "cell_type": "code",
   "execution_count": 62,
   "metadata": {},
   "outputs": [
    {
     "data": {
      "text/plain": [
       "array([10003, 10011, 10013, 10014, 10021, 10022, 10023, 10025, 10028,\n",
       "       10036, 10128, 10303, 10304, 10305, 10314, 11201, 11215, 11217,\n",
       "       11231, 11234, 11434], dtype=int64)"
      ]
     },
     "execution_count": 62,
     "metadata": {},
     "output_type": "execute_result"
    }
   ],
   "source": [
    "# get unique zipcodes\n",
    "df2.zipcode.sort_values().unique()"
   ]
  },
  {
   "cell_type": "code",
   "execution_count": 63,
   "metadata": {},
   "outputs": [],
   "source": [
    "adf2=df2.groupby(['property_type','zipcode']).pe_ratio.agg(['mean','count']).rename({'mean':'pe_ratio'},axis='columns')\\\n",
    "    .reset_index(drop=False) .sort_values(by=['property_type','pe_ratio'],ascending=True)"
   ]
  },
  {
   "cell_type": "code",
   "execution_count": 64,
   "metadata": {},
   "outputs": [],
   "source": [
    "adf2.set_index('zipcode',inplace=True)\n",
    "adf3=adf2[adf2['count']>=5].sort_values('pe_ratio')"
   ]
  },
  {
   "cell_type": "code",
   "execution_count": 65,
   "metadata": {},
   "outputs": [
    {
     "data": {
      "image/png": "[encoded data removed]",
      "text/plain": [
       "<Figure size 1080x720 with 2 Axes>"
      ]
     },
     "metadata": {
      "needs_background": "light"
     },
     "output_type": "display_data"
    }
   ],
   "source": [
    "fig = plt.figure(dpi=180) # Create matplotlib figure\n",
    "\n",
    "ax = fig.add_subplot(111) # Create matplotlib axes\n",
    "ax2 = ax.twinx() # Create another axes that shares the same x-axis as ax.\n",
    "\n",
    "width = 0.4\n",
    "\n",
    "adf3['pe_ratio'].plot(kind='bar',color='red', label='pe_ratio',ax=ax, width=width, position=1)\n",
    "adf3['count'].plot(kind='bar', color='blue', label='count',ax=ax2, width=width, position=0)\n",
    "\n",
    "# ax.set_ylabel('pl_ratio'); ax.legend(loc='upper left', frameon=False)\n",
    "# ax2.set_ylabel('count'); ax2.legend(loc='center left', frameon=False)\n",
    "ax.set_ylabel('pe_ratio'); ax.legend()\n",
    "ax2.set_ylabel('data count'); ax2.legend()\n",
    "\n",
    "plt.show()\n"
   ]
  },
  {
   "cell_type": "markdown",
   "metadata": {},
   "source": [
    "### Interpretations\n",
    "I would like to compare the numbers and PE ratios of the zipcodes with each other. I wouldn't consider the small count of the zipcodes because less properties may not mean be a good investment. 10013 has the highest PE ratio while 11215 has the most properties."
   ]
  },
  {
   "cell_type": "code",
   "execution_count": 66,
   "metadata": {},
   "outputs": [
    {
     "data": {
      "text/html": [
       "<div>\n",
       "<style scoped>\n",
       "    .dataframe tbody tr th:only-of-type {\n",
       "        vertical-align: middle;\n",
       "    }\n",
       "\n",
       "    .dataframe tbody tr th {\n",
       "        vertical-align: top;\n",
       "    }\n",
       "\n",
       "    .dataframe thead th {\n",
       "        text-align: right;\n",
       "    }\n",
       "</style>\n",
       "<table border=\"1\" class=\"dataframe\">\n",
       "  <thead>\n",
       "    <tr style=\"text-align: right;\">\n",
       "      <th></th>\n",
       "      <th>property_type</th>\n",
       "      <th>pe_ratio</th>\n",
       "      <th>count</th>\n",
       "    </tr>\n",
       "    <tr>\n",
       "      <th>zipcode</th>\n",
       "      <th></th>\n",
       "      <th></th>\n",
       "      <th></th>\n",
       "    </tr>\n",
       "  </thead>\n",
       "  <tbody>\n",
       "    <tr>\n",
       "      <th>11215</th>\n",
       "      <td>Apartment</td>\n",
       "      <td>24.306435</td>\n",
       "      <td>119</td>\n",
       "    </tr>\n",
       "    <tr>\n",
       "      <th>11201</th>\n",
       "      <td>Apartment</td>\n",
       "      <td>26.537219</td>\n",
       "      <td>54</td>\n",
       "    </tr>\n",
       "    <tr>\n",
       "      <th>11231</th>\n",
       "      <td>Apartment</td>\n",
       "      <td>26.613603</td>\n",
       "      <td>53</td>\n",
       "    </tr>\n",
       "    <tr>\n",
       "      <th>11217</th>\n",
       "      <td>Apartment</td>\n",
       "      <td>26.690632</td>\n",
       "      <td>83</td>\n",
       "    </tr>\n",
       "    <tr>\n",
       "      <th>10025</th>\n",
       "      <td>Apartment</td>\n",
       "      <td>27.162862</td>\n",
       "      <td>82</td>\n",
       "    </tr>\n",
       "    <tr>\n",
       "      <th>10036</th>\n",
       "      <td>Apartment</td>\n",
       "      <td>28.359759</td>\n",
       "      <td>74</td>\n",
       "    </tr>\n",
       "  </tbody>\n",
       "</table>\n",
       "</div>"
      ],
      "text/plain": [
       "        property_type   pe_ratio  count\n",
       "zipcode                                \n",
       "11215       Apartment  24.306435    119\n",
       "11201       Apartment  26.537219     54\n",
       "11231       Apartment  26.613603     53\n",
       "11217       Apartment  26.690632     83\n",
       "10025       Apartment  27.162862     82\n",
       "10036       Apartment  28.359759     74"
      ]
     },
     "execution_count": 66,
     "metadata": {},
     "output_type": "execute_result"
    }
   ],
   "source": [
    "# get lower pe ratio\n",
    "adf4=adf3[adf3.pe_ratio<=30]; adf4"
   ]
  },
  {
   "cell_type": "markdown",
   "metadata": {},
   "source": [
    "## Conclusion"
   ]
  },
  {
   "cell_type": "markdown",
   "metadata": {},
   "source": []
  },
  {
   "cell_type": "code",
   "execution_count": 67,
   "metadata": {},
   "outputs": [
    {
     "name": "stdout",
     "output_type": "stream",
     "text": [
      "Zipcodes for top ranked airbnd return in NewYork city: [11215, 11201, 11231, 11217, 10025, 10036]\n"
     ]
    }
   ],
   "source": [
    "# conclusion\n",
    "print(\"Zipcodes for top ranked airbnd return in NewYork city:\", adf4.index.tolist())"
   ]
  },
  {
   "cell_type": "markdown",
   "metadata": {},
   "source": [
    "The apartment dataset is strong enough to support my analysis. I conclude that zipcodes: 11215, 11201, 11231, 11217, 10025 and 10036 are good to invest in because of their lower PE ratios so I would recommende these zipcodes to my clients."
   ]
  },
  {
   "cell_type": "markdown",
   "metadata": {},
   "source": []
  }
 ],
 "metadata": {
  "kernelspec": {
   "display_name": "Python 3",
   "language": "python",
   "name": "python3"
  },
  "language_info": {
   "codemirror_mode": {
    "name": "ipython",
    "version": 3
   },
   "file_extension": ".py",
   "mimetype": "text/x-python",
   "name": "python",
   "nbconvert_exporter": "python",
   "pygments_lexer": "ipython3",
   "version": "3.7.3"
  }
 },
 "nbformat": 4,
 "nbformat_minor": 2
}
